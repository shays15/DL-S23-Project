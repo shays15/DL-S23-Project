{
  "nbformat": 4,
  "nbformat_minor": 0,
  "metadata": {
    "colab": {
      "provenance": []
    },
    "kernelspec": {
      "name": "python3",
      "display_name": "Python 3"
    },
    "language_info": {
      "name": "python"
    }
  },
  "cells": [
    {
      "cell_type": "code",
      "execution_count": null,
      "metadata": {
        "id": "klIgsBOiB0rA"
      },
      "outputs": [],
      "source": [
        "import matplotlib.pyplot as plt\n",
        "import numpy as np\n",
        "import pandas as pd\n",
        "import torch\n",
        "import torch.nn as nn\n",
        "import torch.nn.functional as F\n",
        "import torchvision  # modules and transforms for computer vision\n",
        "from matplotlib import pyplot as plt\n",
        "from tqdm.auto import tqdm  # progress bar\n",
        "import os\n",
        "from glob import glob\n",
        "import nibabel as nib\n",
        "from torch.utils.data.dataset import Dataset\n",
        "import random\n",
        "import pathlib\n",
        "import os\n",
        "import math\n",
        "from torch.utils.tensorboard import SummaryWriter\n",
        "from skimage.metrics import structural_similarity as ssim"
      ]
    },
    {
      "cell_type": "code",
      "source": [
        "from google.colab import drive\n",
        "drive.mount('/content/drive')"
      ],
      "metadata": {
        "colab": {
          "base_uri": "https://localhost:8080/"
        },
        "id": "pByXKZsqCCpR",
        "outputId": "4ff92133-c95e-4f77-8500-c66c3f1b5fc3"
      },
      "execution_count": null,
      "outputs": [
        {
          "output_type": "stream",
          "name": "stdout",
          "text": [
            "Mounted at /content/drive\n"
          ]
        }
      ]
    },
    {
      "cell_type": "code",
      "source": [
        "path = '/content/drive/Shareddrives/Deep Learning Project/Pix2Pix/results/'"
      ],
      "metadata": {
        "id": "_npq-eh8CCtA"
      },
      "execution_count": null,
      "outputs": []
    },
    {
      "cell_type": "code",
      "source": [
        "# MAE, MSE, SSIM, PSNR\n",
        "\n",
        "def mse(input,targets):\n",
        "  mse_loss = np.mean(np.square(np.abs(input - targets)))\n",
        "  return mse_loss\n",
        "\n",
        "def mae(input,targets):\n",
        "  mae_loss = np.mean(np.abs(input - targets))\n",
        "  return mae_loss\n",
        "\n",
        "# def ssim(input,targets):\n",
        "#   s_loss = ssim(input,targets)\n",
        "#   return s_loss\n",
        "from skimage.metrics import structural_similarity\n",
        "from skimage.metrics import peak_signal_noise_ratio\n",
        "def ssim(synthetic_img,reference_img):\n",
        "  s_loss = structural_similarity(reference_img, synthetic_img)\n",
        "  #psnr_val = peak_signal_noise_ratio(reference_img, synthetic_img, data_range=reference_img.max() - reference_img.min())\n",
        "\n",
        "def psnr(input,targets):\n",
        "  max_pixel = 1\n",
        "  p_loss = 20*np.log10(max_pixel / np.sqrt(mse(input,targets)))\n",
        "  return p_loss"
      ],
      "metadata": {
        "id": "_1pkrVQZF8xH"
      },
      "execution_count": null,
      "outputs": []
    },
    {
      "cell_type": "code",
      "source": [
        "import imageio.v3 as iio"
      ],
      "metadata": {
        "id": "bp3ZAcQLFjDL"
      },
      "execution_count": null,
      "outputs": []
    },
    {
      "cell_type": "code",
      "source": [
        "#Calculate Metrics on 3D Images\n",
        "mse_list=[]\n",
        "mae_list=[]\n",
        "ssim_list=[]\n",
        "psnr_list=[]\n",
        "\n",
        "mse_sub_list=[]\n",
        "mae_sub_list=[]\n",
        "ssim_sub_list=[]\n",
        "psnr_sub_list=[]\n",
        "\n",
        "patient=['16','17','18']\n",
        "for i in range(3): #Patient 16,17,18\n",
        "  #pat_ind= sorted(os.listdir(os.path.join(path, patient[i])))\n",
        "  for j in range (40): #Loop over all 40 slices\n",
        "\n",
        "    pred=path+patient[i]+'/'+patient[i]+\"__\"+str(j+101)+\"_fake_B.png\"\n",
        "    gt=path+patient[i]+'/'+patient[i]+\"__\"+str(j+101)+\"_real_B.png\"\n",
        "    \n",
        "    test_image=iio.imread(pred)\n",
        "    test_gt=iio.imread(gt)\n",
        "\n",
        "    test_image = test_image/255\n",
        "    test_gt = test_gt/255\n",
        "\n",
        "\n",
        "    mse_loss=mse(test_image,test_gt)\n",
        "    mae_loss=mae(test_image,test_gt)\n",
        "    s_loss=structural_similarity(test_gt,test_image,channel_axis=2)\n",
        "    p_loss=psnr(test_image,test_gt)\n",
        "    mse_sub_list.append(mse_loss)\n",
        "    mae_sub_list.append(mae_loss)\n",
        "    ssim_sub_list.append(s_loss)\n",
        "    psnr_sub_list.append(p_loss)\n",
        "\n",
        "  mse_list.append(np.mean(mse_sub_list))\n",
        "  mae_list.append(np.mean(mae_sub_list))\n",
        "  ssim_list.append(np.mean(ssim_sub_list))\n",
        "  psnr_list.append(np.mean(psnr_sub_list))\n",
        "\n",
        "avg_mse=np.mean(mse_list)\n",
        "avg_mae=np.mean(mae_list)\n",
        "avg_ssim=np.mean(ssim_list)\n",
        "avg_psnr=np.mean(psnr_list)\n",
        "mse_list.append(avg_mse)\n",
        "mae_list.append(avg_mae)\n",
        "ssim_list.append(avg_ssim)\n",
        "psnr_list.append(avg_psnr)"
      ],
      "metadata": {
        "id": "5uKGh2RNCjql"
      },
      "execution_count": null,
      "outputs": []
    },
    {
      "cell_type": "code",
      "source": [
        "data={'MSE':mse_list,'MAE':mae_list,\"PSNR\":psnr_list,\"SSIM\":ssim_list}\n",
        "df=pd.DataFrame(data, index=['Patient 1','Patient 2','Patient 3','Average'])\n",
        "#df=pd.DataFrame(data, index=['Patient 1','Patient 2','Average'])\n",
        "display(df)"
      ],
      "metadata": {
        "id": "xFT2QYIcHdac",
        "colab": {
          "base_uri": "https://localhost:8080/",
          "height": 173
        },
        "outputId": "205218e8-ddf6-4f4b-84ba-4c669eb88763"
      },
      "execution_count": null,
      "outputs": [
        {
          "output_type": "display_data",
          "data": {
            "text/plain": [
              "                MSE       MAE       PSNR      SSIM\n",
              "Patient 1  0.003990  0.031122  24.032352  0.873904\n",
              "Patient 2  0.003837  0.030754  24.204060  0.873121\n",
              "Patient 3  0.003697  0.029829  24.377309  0.876473\n",
              "Average    0.003842  0.030568  24.204573  0.874499"
            ],
            "text/html": [
              "\n",
              "  <div id=\"df-1adf92be-26cd-4d0f-9fc6-037c8d091be7\">\n",
              "    <div class=\"colab-df-container\">\n",
              "      <div>\n",
              "<style scoped>\n",
              "    .dataframe tbody tr th:only-of-type {\n",
              "        vertical-align: middle;\n",
              "    }\n",
              "\n",
              "    .dataframe tbody tr th {\n",
              "        vertical-align: top;\n",
              "    }\n",
              "\n",
              "    .dataframe thead th {\n",
              "        text-align: right;\n",
              "    }\n",
              "</style>\n",
              "<table border=\"1\" class=\"dataframe\">\n",
              "  <thead>\n",
              "    <tr style=\"text-align: right;\">\n",
              "      <th></th>\n",
              "      <th>MSE</th>\n",
              "      <th>MAE</th>\n",
              "      <th>PSNR</th>\n",
              "      <th>SSIM</th>\n",
              "    </tr>\n",
              "  </thead>\n",
              "  <tbody>\n",
              "    <tr>\n",
              "      <th>Patient 1</th>\n",
              "      <td>0.003990</td>\n",
              "      <td>0.031122</td>\n",
              "      <td>24.032352</td>\n",
              "      <td>0.873904</td>\n",
              "    </tr>\n",
              "    <tr>\n",
              "      <th>Patient 2</th>\n",
              "      <td>0.003837</td>\n",
              "      <td>0.030754</td>\n",
              "      <td>24.204060</td>\n",
              "      <td>0.873121</td>\n",
              "    </tr>\n",
              "    <tr>\n",
              "      <th>Patient 3</th>\n",
              "      <td>0.003697</td>\n",
              "      <td>0.029829</td>\n",
              "      <td>24.377309</td>\n",
              "      <td>0.876473</td>\n",
              "    </tr>\n",
              "    <tr>\n",
              "      <th>Average</th>\n",
              "      <td>0.003842</td>\n",
              "      <td>0.030568</td>\n",
              "      <td>24.204573</td>\n",
              "      <td>0.874499</td>\n",
              "    </tr>\n",
              "  </tbody>\n",
              "</table>\n",
              "</div>\n",
              "      <button class=\"colab-df-convert\" onclick=\"convertToInteractive('df-1adf92be-26cd-4d0f-9fc6-037c8d091be7')\"\n",
              "              title=\"Convert this dataframe to an interactive table.\"\n",
              "              style=\"display:none;\">\n",
              "        \n",
              "  <svg xmlns=\"http://www.w3.org/2000/svg\" height=\"24px\"viewBox=\"0 0 24 24\"\n",
              "       width=\"24px\">\n",
              "    <path d=\"M0 0h24v24H0V0z\" fill=\"none\"/>\n",
              "    <path d=\"M18.56 5.44l.94 2.06.94-2.06 2.06-.94-2.06-.94-.94-2.06-.94 2.06-2.06.94zm-11 1L8.5 8.5l.94-2.06 2.06-.94-2.06-.94L8.5 2.5l-.94 2.06-2.06.94zm10 10l.94 2.06.94-2.06 2.06-.94-2.06-.94-.94-2.06-.94 2.06-2.06.94z\"/><path d=\"M17.41 7.96l-1.37-1.37c-.4-.4-.92-.59-1.43-.59-.52 0-1.04.2-1.43.59L10.3 9.45l-7.72 7.72c-.78.78-.78 2.05 0 2.83L4 21.41c.39.39.9.59 1.41.59.51 0 1.02-.2 1.41-.59l7.78-7.78 2.81-2.81c.8-.78.8-2.07 0-2.86zM5.41 20L4 18.59l7.72-7.72 1.47 1.35L5.41 20z\"/>\n",
              "  </svg>\n",
              "      </button>\n",
              "      \n",
              "  <style>\n",
              "    .colab-df-container {\n",
              "      display:flex;\n",
              "      flex-wrap:wrap;\n",
              "      gap: 12px;\n",
              "    }\n",
              "\n",
              "    .colab-df-convert {\n",
              "      background-color: #E8F0FE;\n",
              "      border: none;\n",
              "      border-radius: 50%;\n",
              "      cursor: pointer;\n",
              "      display: none;\n",
              "      fill: #1967D2;\n",
              "      height: 32px;\n",
              "      padding: 0 0 0 0;\n",
              "      width: 32px;\n",
              "    }\n",
              "\n",
              "    .colab-df-convert:hover {\n",
              "      background-color: #E2EBFA;\n",
              "      box-shadow: 0px 1px 2px rgba(60, 64, 67, 0.3), 0px 1px 3px 1px rgba(60, 64, 67, 0.15);\n",
              "      fill: #174EA6;\n",
              "    }\n",
              "\n",
              "    [theme=dark] .colab-df-convert {\n",
              "      background-color: #3B4455;\n",
              "      fill: #D2E3FC;\n",
              "    }\n",
              "\n",
              "    [theme=dark] .colab-df-convert:hover {\n",
              "      background-color: #434B5C;\n",
              "      box-shadow: 0px 1px 3px 1px rgba(0, 0, 0, 0.15);\n",
              "      filter: drop-shadow(0px 1px 2px rgba(0, 0, 0, 0.3));\n",
              "      fill: #FFFFFF;\n",
              "    }\n",
              "  </style>\n",
              "\n",
              "      <script>\n",
              "        const buttonEl =\n",
              "          document.querySelector('#df-1adf92be-26cd-4d0f-9fc6-037c8d091be7 button.colab-df-convert');\n",
              "        buttonEl.style.display =\n",
              "          google.colab.kernel.accessAllowed ? 'block' : 'none';\n",
              "\n",
              "        async function convertToInteractive(key) {\n",
              "          const element = document.querySelector('#df-1adf92be-26cd-4d0f-9fc6-037c8d091be7');\n",
              "          const dataTable =\n",
              "            await google.colab.kernel.invokeFunction('convertToInteractive',\n",
              "                                                     [key], {});\n",
              "          if (!dataTable) return;\n",
              "\n",
              "          const docLinkHtml = 'Like what you see? Visit the ' +\n",
              "            '<a target=\"_blank\" href=https://colab.research.google.com/notebooks/data_table.ipynb>data table notebook</a>'\n",
              "            + ' to learn more about interactive tables.';\n",
              "          element.innerHTML = '';\n",
              "          dataTable['output_type'] = 'display_data';\n",
              "          await google.colab.output.renderOutput(dataTable, element);\n",
              "          const docLink = document.createElement('div');\n",
              "          docLink.innerHTML = docLinkHtml;\n",
              "          element.appendChild(docLink);\n",
              "        }\n",
              "      </script>\n",
              "    </div>\n",
              "  </div>\n",
              "  "
            ]
          },
          "metadata": {}
        }
      ]
    },
    {
      "cell_type": "code",
      "source": [
        "print(np.min(test_gt))"
      ],
      "metadata": {
        "colab": {
          "base_uri": "https://localhost:8080/"
        },
        "id": "C7NHAWOXKSnW",
        "outputId": "982b4089-4322-4811-dc20-a0138abff2bb"
      },
      "execution_count": null,
      "outputs": [
        {
          "output_type": "stream",
          "name": "stdout",
          "text": [
            "0\n"
          ]
        }
      ]
    }
  ]
}